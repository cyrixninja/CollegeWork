{
 "cells": [
  {
   "cell_type": "code",
   "execution_count": 3,
   "metadata": {},
   "outputs": [
    {
     "name": "stdout",
     "output_type": "stream",
     "text": [
      "The number is 5\n"
     ]
    }
   ],
   "source": [
    "# 1. Write a program to take a number from user and display it\n",
    "num = int(input(\"Enter a number: \"))\n",
    "print(\"The number is\", num)"
   ]
  },
  {
   "cell_type": "code",
   "execution_count": 4,
   "metadata": {},
   "outputs": [
    {
     "name": "stdout",
     "output_type": "stream",
     "text": [
      "The square of 5 is 25\n"
     ]
    }
   ],
   "source": [
    "# 2. Write a program to take a number from user and display its square\n",
    "num = int(input(\"Enter a number: \"))\n",
    "print(\"The square of\", num, \"is\", num*num)"
   ]
  },
  {
   "cell_type": "code",
   "execution_count": 5,
   "metadata": {},
   "outputs": [
    {
     "name": "stdout",
     "output_type": "stream",
     "text": [
      "The number is positive\n"
     ]
    }
   ],
   "source": [
    "# 3. Write a program to find if the number is positive, negative or zero.\n",
    "num = int(input(\"Enter a number: \"))\n",
    "if num > 0:\n",
    "    print(\"The number is positive\")\n",
    "elif num < 0:\n",
    "    print(\"The number is negative\")\n",
    "else:\n",
    "    print(\"The number is zero\")"
   ]
  },
  {
   "cell_type": "code",
   "execution_count": 7,
   "metadata": {},
   "outputs": [
    {
     "name": "stdout",
     "output_type": "stream",
     "text": [
      "6 8 10 "
     ]
    }
   ],
   "source": [
    "# 4. Write a program to print all even numbers within the range provided by the user.\n",
    "start = int(input(\"Enter the start of the range: \"))\n",
    "end = int(input(\"Enter the end of the range: \"))\n",
    "for i in range(start, end+1):\n",
    "    if i % 2 == 0:\n",
    "        print(i, end=\" \")"
   ]
  },
  {
   "cell_type": "code",
   "execution_count": 9,
   "metadata": {},
   "outputs": [
    {
     "name": "stdout",
     "output_type": "stream",
     "text": [
      "The factorial of 5 is 120\n"
     ]
    }
   ],
   "source": [
    "# 5. Write a program to compute the factorial of a number given by the user. (while)\n",
    "num = int(input(\"Enter a number: \"))\n",
    "fact = 1\n",
    "i = 1\n",
    "while i <= num:\n",
    "    fact *= i\n",
    "    i += 1\n",
    "print(\"The factorial of\", num, \"is\", fact)"
   ]
  },
  {
   "cell_type": "code",
   "execution_count": 11,
   "metadata": {},
   "outputs": [
    {
     "name": "stdout",
     "output_type": "stream",
     "text": [
      "The digit at unit place is 6\n"
     ]
    }
   ],
   "source": [
    "# 6. Write a function to display digit at unit place of a given number\n",
    "def unit_place(num):\n",
    "    return num % 10\n",
    "num = int(input(\"Enter a number: \"))\n",
    "print(\"The digit at unit place is\", unit_place(num))"
   ]
  },
  {
   "cell_type": "code",
   "execution_count": 13,
   "metadata": {},
   "outputs": [
    {
     "name": "stdout",
     "output_type": "stream",
     "text": [
      "The maximum of 5 6 7 is 7\n"
     ]
    }
   ],
   "source": [
    "# 7. Write a function to display maximum of three numbers\n",
    "def max_of_three(a, b, c):\n",
    "    return max(a, b, c)\n",
    "a = int(input(\"Enter the first number: \"))\n",
    "b = int(input(\"Enter the second number: \"))\n",
    "c = int(input(\"Enter the third number: \"))\n",
    "print(\"The maximum of\", a, b, c, \"is\", max_of_three(a, b, c))"
   ]
  },
  {
   "cell_type": "code",
   "execution_count": null,
   "metadata": {},
   "outputs": [],
   "source": []
  }
 ],
 "metadata": {
  "kernelspec": {
   "display_name": "Python 3",
   "language": "python",
   "name": "python3"
  },
  "language_info": {
   "codemirror_mode": {
    "name": "ipython",
    "version": 3
   },
   "file_extension": ".py",
   "mimetype": "text/x-python",
   "name": "python",
   "nbconvert_exporter": "python",
   "pygments_lexer": "ipython3",
   "version": "3.12.1"
  }
 },
 "nbformat": 4,
 "nbformat_minor": 2
}
