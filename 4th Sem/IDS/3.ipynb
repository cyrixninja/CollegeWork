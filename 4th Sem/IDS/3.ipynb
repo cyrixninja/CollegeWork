{
 "cells": [
  {
   "cell_type": "code",
   "execution_count": 1,
   "metadata": {},
   "outputs": [],
   "source": [
    "# 1. Create a list of five Indian States Eg: [Gujarat, Rajasthan, Andhra Pradesh, Punjab, Kerala]\n",
    "list_of_states = ['Gujarat', 'Rajasthan', 'Andhra Pradesh', 'Punjab', 'Kerala']"
   ]
  },
  {
   "cell_type": "code",
   "execution_count": 3,
   "metadata": {},
   "outputs": [],
   "source": [
    "# 2. Create a list of five Indian States capitals Eg: [Gandhinagar, Jaipur, Visakhapatnam, Chandigarh, Thiruvananthapuram]\n",
    "list_of_capitals = ['Gandhinagar', 'Jaipur', 'Visakhapatnam', 'Chandigarh', 'Thiruvananthapuram']"
   ]
  },
  {
   "cell_type": "code",
   "execution_count": 5,
   "metadata": {},
   "outputs": [],
   "source": [
    "# 3. Create a dictionary using the above two lists.\n",
    "dictionary = dict(zip(list_of_states, list_of_capitals))"
   ]
  },
  {
   "cell_type": "code",
   "execution_count": 7,
   "metadata": {},
   "outputs": [
    {
     "name": "stdout",
     "output_type": "stream",
     "text": [
      "Gandhinagar\n"
     ]
    }
   ],
   "source": [
    "# 4. Display the capital of Gujarat.\n",
    "print(dictionary['Gujarat'])"
   ]
  }
 ],
 "metadata": {
  "kernelspec": {
   "display_name": "Python 3",
   "language": "python",
   "name": "python3"
  },
  "language_info": {
   "codemirror_mode": {
    "name": "ipython",
    "version": 3
   },
   "file_extension": ".py",
   "mimetype": "text/x-python",
   "name": "python",
   "nbconvert_exporter": "python",
   "pygments_lexer": "ipython3",
   "version": "3.12.1"
  }
 },
 "nbformat": 4,
 "nbformat_minor": 2
}
