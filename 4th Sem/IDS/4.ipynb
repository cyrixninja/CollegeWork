{
 "cells": [
  {
   "cell_type": "code",
   "execution_count": 1,
   "metadata": {},
   "outputs": [],
   "source": [
    "# 1. Create a list of words from the sentence given by the user.\n",
    "words = input(\"Enter a sentence: \").split() "
   ]
  },
  {
   "cell_type": "code",
   "execution_count": 2,
   "metadata": {},
   "outputs": [],
   "source": [
    "# 2. Join the above created list of words using ‘#’ symbol. \n",
    "joined_words = '#'.join(words)"
   ]
  },
  {
   "cell_type": "code",
   "execution_count": 3,
   "metadata": {},
   "outputs": [],
   "source": [
    "# 3. Replace a substring of the main string with another string. \n",
    "substring = input(\"Enter a substring to replace: \")\n",
    "replacement = input(\"Enter a replacement string: \")\n",
    "replaced_string = joined_words.replace(substring, replacement)"
   ]
  },
  {
   "cell_type": "code",
   "execution_count": 10,
   "metadata": {},
   "outputs": [],
   "source": [
    "# 4. Check whether the main string starts with the given string4. Check whether the main string starts with the given string\n",
    "start_string = input(\"Enter a string to check if the main string starts with it: \")\n",
    "starts_with = replaced_string.startswith(start_string)"
   ]
  },
  {
   "cell_type": "code",
   "execution_count": 13,
   "metadata": {},
   "outputs": [],
   "source": [
    "# 5. Check whether the main string ends with the given string\n",
    "end_string = input(\"Enter a string to check if the main string ends with it: \")\n",
    "ends_with = replaced_string.endswith(end_string)\n"
   ]
  },
  {
   "cell_type": "code",
   "execution_count": 9,
   "metadata": {},
   "outputs": [
    {
     "name": "stdout",
     "output_type": "stream",
     "text": [
      "Hi Hello\n"
     ]
    }
   ],
   "source": [
    "# 6. Remove extra space from the given string using strip() method\n",
    "extra_space = input(\"Enter a string with extra spaces: \")\n",
    "stripped_string = extra_space.strip()\n",
    "print(stripped_string)"
   ]
  },
  {
   "cell_type": "code",
   "execution_count": 7,
   "metadata": {},
   "outputs": [
    {
     "name": "stdout",
     "output_type": "stream",
     "text": [
      "The given string is numeric.\n"
     ]
    }
   ],
   "source": [
    "# 7. Check whether the given string is numeric or not.\n",
    "check_numeric = input(\"Enter a string to check if it is numeric: \")\n",
    "if check_numeric.isnumeric():\n",
    "    print(\"The given string is numeric.\")"
   ]
  },
  {
   "cell_type": "code",
   "execution_count": 6,
   "metadata": {},
   "outputs": [
    {
     "name": "stdout",
     "output_type": "stream",
     "text": [
      "The string is a palindrome.\n"
     ]
    }
   ],
   "source": [
    "# 8. Write a program to check given input is palindrome or not\n",
    "# A palindrome is a word, phrase, number, or other sequence of characters that reads the same forward and backward.\n",
    "check_palindrome = input(\"Enter a string to check if it is a palindrome: \")\n",
    "if check_palindrome == check_palindrome[::-1]:\n",
    "    print(\"The string is a palindrome.\")"
   ]
  }
 ],
 "metadata": {
  "kernelspec": {
   "display_name": "Python 3",
   "language": "python",
   "name": "python3"
  },
  "language_info": {
   "codemirror_mode": {
    "name": "ipython",
    "version": 3
   },
   "file_extension": ".py",
   "mimetype": "text/x-python",
   "name": "python",
   "nbconvert_exporter": "python",
   "pygments_lexer": "ipython3",
   "version": "3.12.2"
  }
 },
 "nbformat": 4,
 "nbformat_minor": 2
}
