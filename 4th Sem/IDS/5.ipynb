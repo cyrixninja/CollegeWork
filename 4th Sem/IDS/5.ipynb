{
 "cells": [
  {
   "cell_type": "code",
   "execution_count": 2,
   "metadata": {},
   "outputs": [
    {
     "name": "stdout",
     "output_type": "stream",
     "text": [
      "[20 19 18 17 16 15 14 13 12 11 10  9  8  7  6  5  4  3  2  1]\n"
     ]
    }
   ],
   "source": [
    "# 5.1 Create an array of numbers from one to twenty in reverse order.\n",
    "import numpy as np\n",
    "arr1 = np.arange(20, 0, -1)\n",
    "print(arr1)"
   ]
  },
  {
   "cell_type": "code",
   "execution_count": 4,
   "metadata": {},
   "outputs": [
    {
     "name": "stdout",
     "output_type": "stream",
     "text": [
      "[1.         1.44444444 1.88888889 2.33333333 2.77777778 3.22222222\n",
      " 3.66666667 4.11111111 4.55555556 5.        ]\n"
     ]
    }
   ],
   "source": [
    "# 5.2 Create an array of 10 numbers which is evenly spaced in the range of 1 to 5.\n",
    "arr2 = np.linspace(1, 5, 10)\n",
    "print(arr2)"
   ]
  },
  {
   "cell_type": "code",
   "execution_count": 6,
   "metadata": {},
   "outputs": [
    {
     "name": "stdout",
     "output_type": "stream",
     "text": [
      "[1.00000000e+01 2.78255940e+01 7.74263683e+01 2.15443469e+02\n",
      " 5.99484250e+02 1.66810054e+03 4.64158883e+03 1.29154967e+04\n",
      " 3.59381366e+04 1.00000000e+05]\n"
     ]
    }
   ],
   "source": [
    "# 5.3 Create an array of 10 numbers which is evenly spaced in the range of 1 to 5 on log scale.\n",
    "arr3 = np.logspace(1, 5, 10)\n",
    "print(arr3)"
   ]
  },
  {
   "cell_type": "code",
   "execution_count": 7,
   "metadata": {},
   "outputs": [
    {
     "name": "stdout",
     "output_type": "stream",
     "text": [
      "[282 217 244 257 282 242 248 254 269 264]\n"
     ]
    }
   ],
   "source": [
    "# 5.4 Create an array of 10 random numbers in the range of 200 to 300.\n",
    "arr4 = np.random.randint(200, 300, 10)   \n",
    "print(arr4)"
   ]
  },
  {
   "cell_type": "code",
   "execution_count": 8,
   "metadata": {},
   "outputs": [
    {
     "name": "stdout",
     "output_type": "stream",
     "text": [
      "[[8 8 8]\n",
      " [8 8 8]]\n"
     ]
    }
   ],
   "source": [
    "# 5.5 Create a 2D array of size 2X3 with all elements filled with 8\n",
    "arr5 = np.full((2, 3), 8)\n",
    "print(arr5)"
   ]
  },
  {
   "cell_type": "code",
   "execution_count": 12,
   "metadata": {},
   "outputs": [
    {
     "name": "stdout",
     "output_type": "stream",
     "text": [
      "Created array: \n",
      "\n",
      "[[ 1  2  3]\n",
      " [ 4  5  6]\n",
      " [ 7  8  9]\n",
      " [10 11 12]]\n",
      "Second row of the created array: \n",
      "\n",
      "[4 5 6]\n",
      "Second column of the created array: \n",
      "\n",
      "[ 2  5  8 11]\n",
      "Alternate columns of the created array: \n",
      "\n",
      "[[ 1  3]\n",
      " [ 4  6]\n",
      " [ 7  9]\n",
      " [10 12]]\n",
      "Second and fourth row of the created array: \n",
      "\n",
      "[[ 4  5  6]\n",
      " [10 11 12]]\n",
      "Odd rows and even column of the created array: \n",
      "\n",
      "[[2]\n",
      " [8]]\n"
     ]
    }
   ],
   "source": [
    "# 5.6 Create a 2D array of size 4X3 with all elements in the range of 1 to 12 and perform following operations:\n",
    "arr6 = np.arange(1, 13).reshape(4, 3)\n",
    "# Display the created array. \n",
    "print(\"Created array: \\n\")\n",
    "print(arr6)\n",
    "# Display the second row of the created array.\n",
    "print(\"Second row of the created array: \\n\")\n",
    "print(arr6[1])\n",
    "# Display the second column of the created array.\n",
    "print(\"Second column of the created array: \\n\")\n",
    "print(arr6[:, 1])\n",
    "# Display alternate columns of the created array.\n",
    "print(\"Alternate columns of the created array: \\n\")\n",
    "print(arr6[:, ::2])\n",
    "# Display second and fourth row of the created array\n",
    "print(\"Second and fourth row of the created array: \\n\")\n",
    "print(arr6[1::2])\n",
    "# Display odd rows and even column.\n",
    "print(\"Odd rows and even column of the created array: \\n\")\n",
    "print(arr6[::2, 1::2])"
   ]
  }
 ],
 "metadata": {
  "kernelspec": {
   "display_name": "Python 3",
   "language": "python",
   "name": "python3"
  },
  "language_info": {
   "codemirror_mode": {
    "name": "ipython",
    "version": 3
   },
   "file_extension": ".py",
   "mimetype": "text/x-python",
   "name": "python",
   "nbconvert_exporter": "python",
   "pygments_lexer": "ipython3",
   "version": "3.10.13"
  }
 },
 "nbformat": 4,
 "nbformat_minor": 2
}
