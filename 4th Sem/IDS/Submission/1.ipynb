{
 "cells": [
  {
   "cell_type": "code",
   "execution_count": 1,
   "metadata": {},
   "outputs": [
    {
     "name": "stdout",
     "output_type": "stream",
     "text": [
      "Enter a number:\n",
      "You entered: 5\n"
     ]
    }
   ],
   "source": [
    "# Set-1 Python Basics\n",
    "\n",
    "#1.1 Write a program to take a number from user and display it (input,print)\n",
    "print(\"Enter a number:\")\n",
    "num = input()\n",
    "print(\"You entered:\",num)"
   ]
  },
  {
   "cell_type": "code",
   "execution_count": 2,
   "metadata": {},
   "outputs": [
    {
     "name": "stdout",
     "output_type": "stream",
     "text": [
      "Enter a number:\n",
      "Even number\n"
     ]
    }
   ],
   "source": [
    "# 1.2 Write a program to take input from users and print if the input number is odd or even. (if-else)\n",
    "print(\"Enter a number:\")\n",
    "num = int(input())\n",
    "if num%2 == 0:\n",
    "    print(\"Even number\")   \n",
    "else:\n",
    "    print(\"Odd number\")"
   ]
  },
  {
   "cell_type": "code",
   "execution_count": 3,
   "metadata": {},
   "outputs": [
    {
     "name": "stdout",
     "output_type": "stream",
     "text": [
      "Enter a number:\n",
      "Negative number\n"
     ]
    }
   ],
   "source": [
    "# 1.3 Write a program to find if the number is positive, negative or zero.(else-if ladder)\n",
    "print(\"Enter a number:\")\n",
    "num = int(input())\n",
    "if num>0:\n",
    "    print(\"Positive number\")\n",
    "elif num<0:\n",
    "    print(\"Negative number\")\n",
    "else:\n",
    "    print(\"Zero\")"
   ]
  },
  {
   "cell_type": "code",
   "execution_count": 4,
   "metadata": {},
   "outputs": [
    {
     "name": "stdout",
     "output_type": "stream",
     "text": [
      "Enter the range:\n",
      "Even numbers in the range are:\n",
      "6\n",
      "8\n",
      "10\n",
      "12\n",
      "14\n",
      "16\n",
      "18\n",
      "20\n"
     ]
    }
   ],
   "source": [
    "# 1.4 Write a program to print all even numbers within the range provided by the user. (for loop)\n",
    "print(\"Enter the range:\")\n",
    "start = int(input())\n",
    "end = int(input())\n",
    "print(\"Even numbers in the range are:\")\n",
    "for i in range(start,end+1):\n",
    "    if i%2 == 0:\n",
    "        print(i)"
   ]
  },
  {
   "cell_type": "code",
   "execution_count": 5,
   "metadata": {},
   "outputs": [
    {
     "name": "stdout",
     "output_type": "stream",
     "text": [
      "Enter a number:\n",
      "Factorial is: 40320\n"
     ]
    }
   ],
   "source": [
    "# 1.5 Write a program to compute the factorial of a number given by the user. (while)\n",
    "print(\"Enter a number:\")\n",
    "num = int(input())\n",
    "fact = 1\n",
    "while num>0:\n",
    "    fact = fact*num\n",
    "    num = num-1\n",
    "print(\"Factorial is:\",fact)\n"
   ]
  },
  {
   "cell_type": "code",
   "execution_count": 12,
   "metadata": {},
   "outputs": [
    {
     "name": "stdout",
     "output_type": "stream",
     "text": [
      "The Unit Digit is 5\n"
     ]
    }
   ],
   "source": [
    "# 1.6 Write a function to display digit at unit place of a given number\n",
    "def unit_digit(num):\n",
    "    return num % 10\n",
    "\n",
    "print(\"The Unit Digit is \"+ str(unit_digit(12345)))"
   ]
  },
  {
   "cell_type": "code",
   "execution_count": 13,
   "metadata": {},
   "outputs": [
    {
     "name": "stdout",
     "output_type": "stream",
     "text": [
      "The Maximum of three numbers is 30\n"
     ]
    }
   ],
   "source": [
    "# 1.7 Write a function to display maximum of three numbers\n",
    "def max_of_three(a,b,c):\n",
    "    return max(a,b,c)\n",
    "\n",
    "print(\"The Maximum of three numbers is \"+ str(max_of_three(10,20,30)))"
   ]
  }
 ],
 "metadata": {
  "kernelspec": {
   "display_name": "Python 3",
   "language": "python",
   "name": "python3"
  },
  "language_info": {
   "codemirror_mode": {
    "name": "ipython",
    "version": 3
   },
   "file_extension": ".py",
   "mimetype": "text/x-python",
   "name": "python",
   "nbconvert_exporter": "python",
   "pygments_lexer": "ipython3",
   "version": "3.11.9"
  }
 },
 "nbformat": 4,
 "nbformat_minor": 2
}
