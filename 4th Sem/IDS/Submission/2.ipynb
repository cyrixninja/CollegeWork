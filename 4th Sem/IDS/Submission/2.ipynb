{
 "cells": [
  {
   "cell_type": "code",
   "execution_count": 1,
   "metadata": {},
   "outputs": [
    {
     "name": "stdout",
     "output_type": "stream",
     "text": [
      "Tuple:  (1, 2, 3, 'data', 'science', 2, 3)\n",
      "Third element:  3\n",
      "Alternate elements:  (2, 'data', 2)\n",
      "Number of occurences of 2:  2\n",
      "Index of 3:  2\n"
     ]
    }
   ],
   "source": [
    "# Set-2 Python Data Structures\n",
    "\n",
    "# 2.1 Study all methods of tuples &list and perform following operations:\n",
    "# ● Create a tuple with elements 1,2,3, ‘data’, “science”, 2, 3\n",
    "# ● Display the third element from the tuple.\n",
    "# ● Display every alternate element starting at index 1. (Slicing)\n",
    "# ● Display the number of occurrence of element 2\n",
    "# ● Display the index location of element 3 (index exception handling)\n",
    "\n",
    "data = (1,2,3, 'data', \"science\", 2, 3)\n",
    "print(\"Tuple: \", data)\n",
    "\n",
    "print(\"Third element: \", data[2])\n",
    "\n",
    "print(\"Alternate elements: \", data[1::2])\n",
    "\n",
    "print(\"Number of occurences of 2: \", data.count(2))\n",
    "\n",
    "try:\n",
    "    print(\"Index of 3: \", data.index(3))\n",
    "except ValueError:\n",
    "    print(\"Element not found\")\n",
    "\n"
   ]
  },
  {
   "cell_type": "code",
   "execution_count": 2,
   "metadata": {},
   "outputs": [
    {
     "name": "stdout",
     "output_type": "stream",
     "text": [
      "List:  [1, 3, 5, 6, 3, 2, 5, 6]\n",
      "Sum of numbers:  31\n",
      "List after removing duplicates:  [1, 2, 3, 5, 6]\n",
      "List after extending with tuple:  [1, 2, 3, 5, 6, 1, 2, 3, 'data', 'science', 2, 3]\n"
     ]
    }
   ],
   "source": [
    "# ● Create a list of n numbers given by the user. Eg: [1,3,5,6,3,2,5,6] (append in empty list)\n",
    "# ● Display sum of numbers given in the above created list.\n",
    "# ● Remove duplicate elements from the above created list. (convert list to set)\n",
    "# ● Extend the list with the tuple created above. (extend method of list)\n",
    "\n",
    "n = int(input(\"Enter number of elements: \"))\n",
    "numbers = []\n",
    "for i in range(n):\n",
    "    numbers.append(int(input(\"Enter number: \")))\n",
    "print(\"List: \", numbers)\n",
    "\n",
    "print(\"Sum of numbers: \", sum(numbers))\n",
    "\n",
    "numbers = list(set(numbers))\n",
    "print(\"List after removing duplicates: \", numbers)\n",
    "\n",
    "numbers.extend(data)\n",
    "print(\"List after extending with tuple: \", numbers)\n"
   ]
  },
  {
   "cell_type": "code",
   "execution_count": 4,
   "metadata": {},
   "outputs": [
    {
     "name": "stdout",
     "output_type": "stream",
     "text": [
      "State-Capital:  {'Gujarat': 'Gandhinagar', 'Rajasthan': 'Jaipur', 'Andhra Pradesh': 'Visakhapatnam', 'Punjab': 'Chandigarh', 'Kerala': 'Thiruvananthapuram'}\n",
      "Capital of Gujarat:  Gandhinagar\n"
     ]
    }
   ],
   "source": [
    "# 2.2 Study all methods of dictionary and perform following operations:\n",
    "# ● Create a list of five Indian States Eg: [Gujarat, Rajasthan, Andhra Pradesh, Punjab, Kerala]\n",
    "# ● Create a list of five Indian States capitals Eg: [Gandhinagar, Jaipur, Visakhapatnam, Chandigarh, Thiruvananthapuram]\n",
    "# ● Create a dictionary using the above two lists. (update with for loop)\n",
    "# ● Display the capital of Gujarat.\n",
    "\n",
    "states = ['Gujarat', 'Rajasthan', 'Andhra Pradesh', 'Punjab', 'Kerala']\n",
    "capitals = ['Gandhinagar', 'Jaipur', 'Visakhapatnam', 'Chandigarh', 'Thiruvananthapuram']\n",
    "\n",
    "state_capital = {}\n",
    "for i in range(len(states)):\n",
    "    state_capital[states[i]] = capitals[i]\n",
    "    \n",
    "print(\"State-Capital: \", state_capital)\n",
    "\n",
    "print(\"Capital of Gujarat: \", state_capital['Gujarat'])"
   ]
  },
  {
   "cell_type": "code",
   "execution_count": 5,
   "metadata": {},
   "outputs": [
    {
     "name": "stdout",
     "output_type": "stream",
     "text": [
      "Words:  ['The', 'quick', 'brown', 'fox', 'jumps', 'over', 'the', 'lazy', 'dog']\n",
      "Joined:  The#quick#brown#fox#jumps#over#the#lazy#dog\n",
      "Starts with:  True\n",
      "Ends with:  True\n",
      "Stripped:  The quick brown cat jumps over the lazy dog\n",
      "Is numeric:  False\n"
     ]
    }
   ],
   "source": [
    "# 2.3 Study following listed methods of string (join, endswith, startswith, isnumeric, split, strip, replace) and perform below given operations:\n",
    "# ● Create a list of words from the sentence given by the user.\n",
    "# ● Join the above created list of words using ‘#’ symbol.\n",
    "# ● Replace a substring of the main string with another string.\n",
    "# ● Check whether the main string starts with the given string\n",
    "# ● Check whether the main string ends with the given string\n",
    "# ● Remove extra space from the given string using strip() method\n",
    "# ● Check whether the given string is numeric or not.\n",
    "# ● Write a program to check given input is palindrome or not\n",
    "\n",
    "sentence = input(\"Enter a sentence: \")\n",
    "words = sentence.split()\n",
    "print(\"Words: \", words)\n",
    "\n",
    "joined = '#'.join(words)\n",
    "print(\"Joined: \", joined)\n",
    "\n",
    "substring = input(\"Enter substring to replace: \")\n",
    "replace = input(\"Enter replacement: \")\n",
    "sentence = sentence.replace(substring, replace)\n",
    "\n",
    "substring = input(\"Enter substring to check start: \")\n",
    "print(\"Starts with: \", sentence.startswith(substring))\n",
    "\n",
    "substring = input(\"Enter substring to check end: \")\n",
    "print(\"Ends with: \", sentence.endswith(substring))\n",
    "\n",
    "sentence = sentence.strip()\n",
    "print(\"Stripped: \", sentence)\n",
    "\n",
    "print(\"Is numeric: \", sentence.isnumeric())\n",
    "\n",
    "if sentence == sentence[::-1]:\n",
    "    print(\"Palindrome\")"
   ]
  }
 ],
 "metadata": {
  "kernelspec": {
   "display_name": "Python 3",
   "language": "python",
   "name": "python3"
  },
  "language_info": {
   "codemirror_mode": {
    "name": "ipython",
    "version": 3
   },
   "file_extension": ".py",
   "mimetype": "text/x-python",
   "name": "python",
   "nbconvert_exporter": "python",
   "pygments_lexer": "ipython3",
   "version": "3.11.9"
  }
 },
 "nbformat": 4,
 "nbformat_minor": 2
}
