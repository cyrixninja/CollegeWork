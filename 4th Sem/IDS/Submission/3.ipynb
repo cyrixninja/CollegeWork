{
 "cells": [
  {
   "cell_type": "code",
   "execution_count": 1,
   "metadata": {},
   "outputs": [
    {
     "name": "stdout",
     "output_type": "stream",
     "text": [
      "[20 19 18 17 16 15 14 13 12 11 10  9  8  7  6  5  4  3  2  1]\n"
     ]
    }
   ],
   "source": [
    "# Set-3 Mathematical Computing with Python (numpy)\n",
    "\n",
    "# 3.1 Create an array of numbers from one to twenty in reverse order.\n",
    "import numpy as np\n",
    "arr = np.arange(20, 0, -1)\n",
    "print(arr)\n"
   ]
  },
  {
   "cell_type": "code",
   "execution_count": 2,
   "metadata": {},
   "outputs": [
    {
     "name": "stdout",
     "output_type": "stream",
     "text": [
      "[1.         1.44444444 1.88888889 2.33333333 2.77777778 3.22222222\n",
      " 3.66666667 4.11111111 4.55555556 5.        ]\n"
     ]
    }
   ],
   "source": [
    "# 3.2 Create an array of 10 numbers which is evenly spaced in the range of 1 to 5.\n",
    "arr = np.linspace(1, 5, 10)\n",
    "print(arr)"
   ]
  },
  {
   "cell_type": "code",
   "execution_count": 3,
   "metadata": {},
   "outputs": [
    {
     "name": "stdout",
     "output_type": "stream",
     "text": [
      "[1.00000000e+01 2.78255940e+01 7.74263683e+01 2.15443469e+02\n",
      " 5.99484250e+02 1.66810054e+03 4.64158883e+03 1.29154967e+04\n",
      " 3.59381366e+04 1.00000000e+05]\n"
     ]
    }
   ],
   "source": [
    "# 3.3 Create an array of 10 numbers which is evenly spaced in the range of 1 to 5 on log scale.\n",
    "arr = np.logspace(1, 5, 10)\n",
    "print(arr)"
   ]
  },
  {
   "cell_type": "code",
   "execution_count": 4,
   "metadata": {},
   "outputs": [
    {
     "name": "stdout",
     "output_type": "stream",
     "text": [
      "[258 239 295 206 246 232 213 262 253 294]\n"
     ]
    }
   ],
   "source": [
    "# 3.4 Create an array of 10 random numbers in the range of 200 to 300.\n",
    "arr = np.random.randint(200, 300, 10)\n",
    "print(arr)"
   ]
  },
  {
   "cell_type": "code",
   "execution_count": 5,
   "metadata": {},
   "outputs": [
    {
     "name": "stdout",
     "output_type": "stream",
     "text": [
      "[[8 8 8]\n",
      " [8 8 8]]\n"
     ]
    }
   ],
   "source": [
    "# 3.5 Create a 2D array of size 2X3 with all elements filled with 8\n",
    "arr = np.full((2, 3), 8)\n",
    "print(arr)"
   ]
  },
  {
   "cell_type": "code",
   "execution_count": 6,
   "metadata": {},
   "outputs": [
    {
     "name": "stdout",
     "output_type": "stream",
     "text": [
      "The created array is:\n",
      "[[ 1  2  3]\n",
      " [ 4  5  6]\n",
      " [ 7  8  9]\n",
      " [10 11 12]]\n",
      "The second row of the created array is:\n",
      "[4 5 6]\n",
      "The second column of the created array is:\n",
      "[ 2  5  8 11]\n",
      "Alternate columns of the created array are:\n",
      "[[ 1  3]\n",
      " [ 4  6]\n",
      " [ 7  9]\n",
      " [10 12]]\n",
      "Second and fourth row of the created array are:\n",
      "[[ 4  5  6]\n",
      " [10 11 12]]\n",
      "Odd rows and even column of the created array are:\n",
      "[2 8]\n"
     ]
    }
   ],
   "source": [
    "# 3.6 Create a 2D array of size 4X3 with all elements in the range of 1 to 12 and perform following operations:\n",
    "# a. Display the created array\n",
    "# b. Display the second row of the created array.\n",
    "# c. Display the second column of the created array.\n",
    "# d. Display alternate columns of the created array.\n",
    "# e. Display second and fourth row of the created array\n",
    "# f. Display odd rows and even column.\n",
    "\n",
    "arr = np.arange(1, 13).reshape(4, 3)\n",
    "\n",
    "print(\"The created array is:\")\n",
    "print(arr)\n",
    "\n",
    "print(\"The second row of the created array is:\")\n",
    "print(arr[1])\n",
    "\n",
    "print(\"The second column of the created array is:\")\n",
    "print(arr[:, 1])\n",
    "\n",
    "print(\"Alternate columns of the created array are:\")\n",
    "print(arr[:, ::2])\n",
    "\n",
    "print(\"Second and fourth row of the created array are:\")\n",
    "print(arr[[1, 3]])\n",
    "\n",
    "print(\"Odd rows and even column of the created array are:\")\n",
    "print(arr[::2, 1])"
   ]
  },
  {
   "cell_type": "code",
   "execution_count": 8,
   "metadata": {},
   "outputs": [
    {
     "name": "stdout",
     "output_type": "stream",
     "text": [
      "[10 10 75 20 10 50 10 75 75 75 75 75 10 20 75 10 75 10 10 20 20 10 10 75\n",
      " 20 10 10 10 20 10 10 75 75 75 10 75 75 20 10 10 10 20 75 10 75 10 10 75\n",
      " 75 20 10 20 10 75 10 10 10 10 75 20 75 75 10 20 50 75 20 20 20 10 50 10\n",
      " 75 10 10 50 20 75 10 10 10 50 10 10 50 50 20 10 75 20 75 10 75 50 10 10\n",
      " 20 20 10 10]\n"
     ]
    }
   ],
   "source": [
    "# 3.7 Write a Python program to generate a 1-D array containing 100\n",
    "# values, where each value has to be 10, 20, 50 or 75.\n",
    "# a. The probability for the value to be 10 is set to be 0.4\n",
    "# b. The probability for the value to be 20 is set to be 0.2\n",
    "# c. The probability for the value to be 50 is set to be 0.1\n",
    "# d. The probability for the value to be 75 is set to be 0.3\n",
    "\n",
    "arr = np.random.choice([10, 20, 50, 75], 100, p=[0.4, 0.2, 0.1, 0.3])\n",
    "print(arr)\n"
   ]
  }
 ],
 "metadata": {
  "kernelspec": {
   "display_name": "Python 3",
   "language": "python",
   "name": "python3"
  },
  "language_info": {
   "codemirror_mode": {
    "name": "ipython",
    "version": 3
   },
   "file_extension": ".py",
   "mimetype": "text/x-python",
   "name": "python",
   "nbconvert_exporter": "python",
   "pygments_lexer": "ipython3",
   "version": "3.11.9"
  }
 },
 "nbformat": 4,
 "nbformat_minor": 2
}
