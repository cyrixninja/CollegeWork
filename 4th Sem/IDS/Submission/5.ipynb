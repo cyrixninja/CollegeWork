{
 "cells": [
  {
   "cell_type": "code",
   "execution_count": 9,
   "metadata": {},
   "outputs": [
    {
     "name": "stdout",
     "output_type": "stream",
     "text": [
      "Integration result:  0.14558175869954834\n"
     ]
    }
   ],
   "source": [
    "# Set 5 Scientific Computing with Python\n",
    "\n",
    "# 5.1 Calculate Integration of the following function using SciPy.\n",
    "\n",
    "import numpy as np\n",
    "from scipy.integrate import quad\n",
    "from scipy.integrate import simps\n",
    "\n",
    "def f(x):\n",
    "    return x**2 * np.sin(2*x) * np.exp(-x)\n",
    "\n",
    "result, error = quad(f, 0, 1)\n",
    "print(\"Integration result: \", result)"
   ]
  },
  {
   "cell_type": "code",
   "execution_count": 14,
   "metadata": {},
   "outputs": [
    {
     "name": "stdout",
     "output_type": "stream",
     "text": [
      "2*x + 3\n",
      "The derivative of the function at x=1 is: 4.999999999810711\n",
      "The derivative of the function at x=2 is: 7.000000000090267\n",
      "The derivative of the function at x=3 is: 9.000000000369823\n"
     ]
    },
    {
     "name": "stderr",
     "output_type": "stream",
     "text": [
      "C:\\Users\\cyrix\\AppData\\Local\\Temp\\ipykernel_2652\\2324260141.py:23: DeprecationWarning: scipy.misc.derivative is deprecated in SciPy v1.10.0; and will be completely removed in SciPy v1.12.0. You may consider using findiff: https://github.com/maroba/findiff or numdifftools: https://github.com/pbrod/numdifftools\n",
      "  derivative_value = derivative(f, 1.0, dx=1e-6)\n",
      "C:\\Users\\cyrix\\AppData\\Local\\Temp\\ipykernel_2652\\2324260141.py:26: DeprecationWarning: scipy.misc.derivative is deprecated in SciPy v1.10.0; and will be completely removed in SciPy v1.12.0. You may consider using findiff: https://github.com/maroba/findiff or numdifftools: https://github.com/pbrod/numdifftools\n",
      "  derivative_value = derivative(f, 2.0, dx=1e-6)\n",
      "C:\\Users\\cyrix\\AppData\\Local\\Temp\\ipykernel_2652\\2324260141.py:29: DeprecationWarning: scipy.misc.derivative is deprecated in SciPy v1.10.0; and will be completely removed in SciPy v1.12.0. You may consider using findiff: https://github.com/maroba/findiff or numdifftools: https://github.com/pbrod/numdifftools\n",
      "  derivative_value = derivative(f, 3.0, dx=1e-6)\n"
     ]
    }
   ],
   "source": [
    "# 5.2 Solve the following differential equation using SciPy.\n",
    "# d(x^2 + 3x +4)/dx \n",
    "\n",
    "from sympy import symbols, diff\n",
    "\n",
    "# Define the variable and the function\n",
    "x = symbols('x')\n",
    "y = x**2 + 3*x + 4\n",
    "\n",
    "# Differentiate y with respect to x\n",
    "dy_dx = diff(y, x)\n",
    "\n",
    "print(dy_dx)\n",
    "\n",
    "# using SciPy\n",
    "\n",
    "import numpy as np\n",
    "from scipy.misc import derivative\n",
    "\n",
    "def f(x):\n",
    "    return x**2 + 3*x + 4\n",
    "\n",
    "derivative_value = derivative(f, 1.0, dx=1e-6)\n",
    "print(f\"The derivative of the function at x=1 is: {derivative_value}\")\n",
    "\n",
    "derivative_value = derivative(f, 2.0, dx=1e-6)\n",
    "print(f\"The derivative of the function at x=2 is: {derivative_value}\")\n",
    "\n",
    "derivative_value = derivative(f, 3.0, dx=1e-6)\n",
    "print(f\"The derivative of the function at x=3 is: {derivative_value}\")\n",
    "\n",
    "\n",
    "\n",
    "\n"
   ]
  },
  {
   "cell_type": "code",
   "execution_count": null,
   "metadata": {},
   "outputs": [],
   "source": []
  }
 ],
 "metadata": {
  "kernelspec": {
   "display_name": "Python 3",
   "language": "python",
   "name": "python3"
  },
  "language_info": {
   "codemirror_mode": {
    "name": "ipython",
    "version": 3
   },
   "file_extension": ".py",
   "mimetype": "text/x-python",
   "name": "python",
   "nbconvert_exporter": "python",
   "pygments_lexer": "ipython3",
   "version": "3.11.9"
  }
 },
 "nbformat": 4,
 "nbformat_minor": 2
}
