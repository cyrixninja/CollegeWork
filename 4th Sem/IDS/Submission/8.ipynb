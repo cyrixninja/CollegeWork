{
 "cells": [
  {
   "cell_type": "code",
   "execution_count": 1,
   "metadata": {},
   "outputs": [],
   "source": [
    "# Set 8 MongoDb with PyMongo\n",
    "\n",
    "# 8.1 Perform following using MongoDB (Atlas)\n",
    "\n",
    "# ● Create Cluster\n",
    "# ● Create Database named employee\n",
    "# ● Create Collection named employeedetails\n",
    "\n",
    "import pymongo\n",
    "from pymongo import MongoClient\n",
    "\n",
    "# Create a connection to MongoDB\n",
    "client = MongoClient(\"mongodb+srv://cyrixninja:<password>@projecttesting.ytxpw2m.mongodb.net/?retryWrites=true&w=majority&appName=ProjectTesting\")\n",
    "# Create a database\n",
    "db = client[\"employee\"]\n",
    "# Create a collection\n",
    "collection = db[\"employeedetails\"]"
   ]
  },
  {
   "cell_type": "code",
   "execution_count": 2,
   "metadata": {},
   "outputs": [
    {
     "data": {
      "text/plain": [
       "InsertOneResult(ObjectId('6638cba85996d4c2d34a1139'), acknowledged=True)"
      ]
     },
     "execution_count": 2,
     "metadata": {},
     "output_type": "execute_result"
    }
   ],
   "source": [
    "# 8.2 Insert a dummy document in your collection\n",
    "\n",
    "# Insert a document\n",
    "document = {\"name\": \"Demo Name\", \"age\": 20, \"city\": \"Surat\"}\n",
    "collection.insert_one(document)"
   ]
  },
  {
   "cell_type": "code",
   "execution_count": 3,
   "metadata": {},
   "outputs": [
    {
     "data": {
      "text/plain": [
       "InsertOneResult(ObjectId('6638cbeb5996d4c2d34a113a'), acknowledged=True)"
      ]
     },
     "execution_count": 3,
     "metadata": {},
     "output_type": "execute_result"
    }
   ],
   "source": [
    "# 8.3 Insert a document in employeedetails collection having following details:\n",
    "#Name: John\n",
    "#Contact: 9999999911\n",
    "#Email:j@ymail.com\n",
    "\n",
    "# Insert a document\n",
    "document = {\"name\": \"John\", \"contact\": 9999999911, \"email\": \"j@ymail\"}\n",
    "collection.insert_one(document)\n"
   ]
  },
  {
   "cell_type": "code",
   "execution_count": 4,
   "metadata": {},
   "outputs": [
    {
     "data": {
      "text/plain": [
       "InsertManyResult([ObjectId('6638cc535996d4c2d34a113b'), ObjectId('6638cc535996d4c2d34a113c'), ObjectId('6638cc535996d4c2d34a113d'), ObjectId('6638cc535996d4c2d34a113e')], acknowledged=True)"
      ]
     },
     "execution_count": 4,
     "metadata": {},
     "output_type": "execute_result"
    }
   ],
   "source": [
    "# 8.4 Insert Multiple documents having above details in employeedetails collection\n",
    "sample_data = [ {\"name\": \"John\", \"contact\": 9999999911, \"email\": \"j@ymail\"},\n",
    "                {\"name\": \"Prakhar\", \"contact\": 9999999922, \"email\": \"prakhar@ymail\"},\n",
    "                {\"name\": \"Dev\", \"contact\": 9999999933, \"email\": \"Dev@ymail\"},\n",
    "                {\"name\": \"Harsh\", \"contact\": 9999999944, \"email\": \"harsh@ymail\"}\n",
    "                ]\n",
    "collection.insert_many(sample_data)\n"
   ]
  },
  {
   "cell_type": "code",
   "execution_count": 5,
   "metadata": {},
   "outputs": [
    {
     "name": "stdout",
     "output_type": "stream",
     "text": [
      "{'_id': ObjectId('6638cba85996d4c2d34a1139'), 'name': 'Demo Name', 'age': 20, 'city': 'Surat'}\n"
     ]
    }
   ],
   "source": [
    "# 8.5 Find the first document in the employeedetails collection\n",
    "result = collection.find_one()\n",
    "print(result)"
   ]
  },
  {
   "cell_type": "code",
   "execution_count": 6,
   "metadata": {},
   "outputs": [
    {
     "name": "stdout",
     "output_type": "stream",
     "text": [
      "{'_id': ObjectId('6638cba85996d4c2d34a1139'), 'name': 'Demo Name', 'age': 20, 'city': 'Surat'}\n",
      "{'_id': ObjectId('6638cbeb5996d4c2d34a113a'), 'name': 'John', 'contact': 9999999911, 'email': 'j@ymail'}\n",
      "{'_id': ObjectId('6638cc535996d4c2d34a113b'), 'name': 'John', 'contact': 9999999911, 'email': 'j@ymail'}\n",
      "{'_id': ObjectId('6638cc535996d4c2d34a113c'), 'name': 'Prakhar', 'contact': 9999999922, 'email': 'prakhar@ymail'}\n",
      "{'_id': ObjectId('6638cc535996d4c2d34a113d'), 'name': 'Dev', 'contact': 9999999933, 'email': 'Dev@ymail'}\n",
      "{'_id': ObjectId('6638cc535996d4c2d34a113e'), 'name': 'Harsh', 'contact': 9999999944, 'email': 'harsh@ymail'}\n"
     ]
    }
   ],
   "source": [
    "# 8.6 Return all documents in the \"employeedetails\" collection, and print each document\n",
    "\n",
    "for document in collection.find():\n",
    "    print(document)"
   ]
  },
  {
   "cell_type": "code",
   "execution_count": 7,
   "metadata": {},
   "outputs": [
    {
     "name": "stdout",
     "output_type": "stream",
     "text": [
      "{'_id': ObjectId('6638cbeb5996d4c2d34a113a'), 'name': 'John', 'contact': 9999999911, 'email': 'j@ymail'}\n"
     ]
    }
   ],
   "source": [
    "# 8.7 Find document with mail id \"j@ymal.com\"\n",
    "\n",
    "result = collection.find_one({\"email\": \"j@ymail\"})\n",
    "print(result)"
   ]
  },
  {
   "cell_type": "code",
   "execution_count": 10,
   "metadata": {},
   "outputs": [
    {
     "data": {
      "text/plain": [
       "UpdateResult({'n': 1, 'electionId': ObjectId('7fffffff0000000000000037'), 'opTime': {'ts': Timestamp(1714998489, 6), 't': 55}, 'nModified': 1, 'ok': 1.0, '$clusterTime': {'clusterTime': Timestamp(1714998489, 6), 'signature': {'hash': b'\\xa6\\xb52do\\\\\\x04f:+|]\\xaf:\\x8e@\\x8c,\\xb8\\xe0', 'keyId': 7311689974670163974}}, 'operationTime': Timestamp(1714998489, 6), 'updatedExisting': True}, acknowledged=True)"
      ]
     },
     "execution_count": 10,
     "metadata": {},
     "output_type": "execute_result"
    }
   ],
   "source": [
    "# 8.8 Update email id of \"j@ymail.com\" to \"j@gmail.com\"\n",
    "\n",
    "collection.update_one({\"email\": \"j@ymail\"}, {\"$set\": {\"email\": \"j@gmail\"}})\n"
   ]
  },
  {
   "cell_type": "code",
   "execution_count": 11,
   "metadata": {},
   "outputs": [
    {
     "name": "stdout",
     "output_type": "stream",
     "text": [
      "{'_id': ObjectId('6638cba85996d4c2d34a1139'), 'name': 'Demo Name', 'age': 20, 'city': 'Surat'}\n",
      "{'_id': ObjectId('6638cc535996d4c2d34a113c'), 'name': 'Prakhar', 'contact': 9999999922, 'email': 'prakhar@ymail'}\n",
      "{'_id': ObjectId('6638cc535996d4c2d34a113d'), 'name': 'Dev', 'contact': 9999999933, 'email': 'Dev@ymail'}\n",
      "{'_id': ObjectId('6638cc535996d4c2d34a113e'), 'name': 'Harsh', 'contact': 9999999944, 'email': 'harsh@ymail'}\n"
     ]
    }
   ],
   "source": [
    "# 8.9 Remove the document having email id as “j@gmail.com”\n",
    "\n",
    "collection.delete_one({\"email\": \"j@gmail\"})\n",
    "for document in collection.find():\n",
    "    print(document)"
   ]
  },
  {
   "cell_type": "code",
   "execution_count": 12,
   "metadata": {},
   "outputs": [
    {
     "name": "stdout",
     "output_type": "stream",
     "text": [
      "['employeedetails']\n"
     ]
    }
   ],
   "source": [
    "# 8.10 Return list of all collections in your database\n",
    "\n",
    "print(db.list_collection_names())"
   ]
  },
  {
   "cell_type": "code",
   "execution_count": null,
   "metadata": {},
   "outputs": [],
   "source": []
  }
 ],
 "metadata": {
  "kernelspec": {
   "display_name": "Python 3",
   "language": "python",
   "name": "python3"
  },
  "language_info": {
   "codemirror_mode": {
    "name": "ipython",
    "version": 3
   },
   "file_extension": ".py",
   "mimetype": "text/x-python",
   "name": "python",
   "nbconvert_exporter": "python",
   "pygments_lexer": "ipython3",
   "version": "3.11.9"
  }
 },
 "nbformat": 4,
 "nbformat_minor": 2
}
